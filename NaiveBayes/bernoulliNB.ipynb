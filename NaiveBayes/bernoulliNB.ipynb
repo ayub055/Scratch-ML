{
 "cells": [
  {
   "cell_type": "code",
   "execution_count": 1,
   "metadata": {},
   "outputs": [],
   "source": [
    "import pandas as pd\n",
    "import numpy as np"
   ]
  },
  {
   "cell_type": "code",
   "execution_count": 2,
   "metadata": {},
   "outputs": [
    {
     "data": {
      "text/html": [
       "<div>\n",
       "<style scoped>\n",
       "    .dataframe tbody tr th:only-of-type {\n",
       "        vertical-align: middle;\n",
       "    }\n",
       "\n",
       "    .dataframe tbody tr th {\n",
       "        vertical-align: top;\n",
       "    }\n",
       "\n",
       "    .dataframe thead th {\n",
       "        text-align: right;\n",
       "    }\n",
       "</style>\n",
       "<table border=\"1\" class=\"dataframe\">\n",
       "  <thead>\n",
       "    <tr style=\"text-align: right;\">\n",
       "      <th></th>\n",
       "      <th>f1</th>\n",
       "      <th>f2</th>\n",
       "      <th>class</th>\n",
       "    </tr>\n",
       "  </thead>\n",
       "  <tbody>\n",
       "    <tr>\n",
       "      <th>0</th>\n",
       "      <td>1</td>\n",
       "      <td>0</td>\n",
       "      <td>1</td>\n",
       "    </tr>\n",
       "    <tr>\n",
       "      <th>1</th>\n",
       "      <td>0</td>\n",
       "      <td>1</td>\n",
       "      <td>0</td>\n",
       "    </tr>\n",
       "    <tr>\n",
       "      <th>2</th>\n",
       "      <td>0</td>\n",
       "      <td>1</td>\n",
       "      <td>0</td>\n",
       "    </tr>\n",
       "    <tr>\n",
       "      <th>3</th>\n",
       "      <td>1</td>\n",
       "      <td>0</td>\n",
       "      <td>1</td>\n",
       "    </tr>\n",
       "  </tbody>\n",
       "</table>\n",
       "</div>"
      ],
      "text/plain": [
       "   f1  f2  class\n",
       "0   1   0      1\n",
       "1   0   1      0\n",
       "2   0   1      0\n",
       "3   1   0      1"
      ]
     },
     "execution_count": 2,
     "metadata": {},
     "output_type": "execute_result"
    }
   ],
   "source": [
    "data = pd.read_csv('bern.csv')\n",
    "data.head()"
   ]
  },
  {
   "cell_type": "code",
   "execution_count": 13,
   "metadata": {},
   "outputs": [
    {
     "name": "stdout",
     "output_type": "stream",
     "text": [
      "2 2\n"
     ]
    }
   ],
   "source": [
    "X = data[['f1', 'f2']]\n",
    "y = data['class']\n",
    "num_classes = len(np.unique(y))\n",
    "num_features = X.shape[1]\n",
    "print(num_classes, num_features)"
   ]
  },
  {
   "cell_type": "code",
   "execution_count": 14,
   "metadata": {},
   "outputs": [],
   "source": [
    "likelihood = np.zeros((num_classes, num_features))\n",
    "prior = np.zeros((num_classes))"
   ]
  },
  {
   "cell_type": "code",
   "execution_count": 15,
   "metadata": {},
   "outputs": [
    {
     "name": "stdout",
     "output_type": "stream",
     "text": [
      "Class conditional Density:  [[0. 1.]\n",
      " [1. 0.]]\n",
      "Class Priors:  [0.5 0.5]\n"
     ]
    }
   ],
   "source": [
    "C = np.unique(y)\n",
    "for c in C:\n",
    "    X_c = X[y==c]\n",
    "    likelihood[c, :] = np.sum(X_c, axis=0) / X_c.shape[0]\n",
    "    prior[c] = X_c.shape[0] / X.shape[0]\n",
    "    \n",
    "print('Class conditional Density: ', likelihood)\n",
    "print('Class Priors: ', prior)"
   ]
  },
  {
   "cell_type": "code",
   "execution_count": 16,
   "metadata": {},
   "outputs": [
    {
     "name": "stdout",
     "output_type": "stream",
     "text": [
      "Class conditional Density:  [[0.25 0.75]\n",
      " [0.75 0.25]]\n",
      "Class Priors:  [0.5 0.5]\n"
     ]
    }
   ],
   "source": [
    "C = np.unique(y)\n",
    "alpha = 1\n",
    "for c in C:\n",
    "    X_c = X[y==c]\n",
    "    likelihood[c, :] = (np.sum(X_c, axis=0) + alpha) / (X_c.shape[0] + 2*alpha)\n",
    "    prior[c] = (X_c.shape[0] + alpha)/ (X.shape[0] + num_classes * alpha)\n",
    "    \n",
    "print('Class conditional Density: ', likelihood)\n",
    "print('Class Priors: ', prior)"
   ]
  },
  {
   "cell_type": "code",
   "execution_count": 29,
   "metadata": {},
   "outputs": [],
   "source": [
    "class BernoulliNB:\n",
    "    def __init__(self, alpha=1):\n",
    "        self.alpha = alpha\n",
    "        \n",
    "    def fit(self, X, y):\n",
    "        num_samples = X.shape[0]\n",
    "        num_features = X.shape[1]\n",
    "        C = np.unique(y)\n",
    "        num_classes = len(C)\n",
    "        \n",
    "        self.class_conditional = np.zeros((num_classes, num_features))\n",
    "        self.class_priors = np.zeros(num_classes)\n",
    "        \n",
    "        for c in C:\n",
    "            X_c = X[y == c]\n",
    "            self.class_conditional[c, :] = (np.sum(X_c, axis=0) + self.alpha) / (X_c.shape[0] + 2 * self.alpha)\n",
    "            self.class_priors[c] = (X_c.shape[0] + alpha) / (num_samples + num_classes * self.alpha)\n",
    "            \n",
    "        print(self.class_conditional)\n",
    "        print(self.class_priors)\n",
    "            \n",
    "    def class_conditional_prior_product(self, X):\n",
    "        left = X @ (np.log(self.class_conditional).T) \n",
    "        mid = (1-X) @ (np.log(1- self.class_conditional).T)\n",
    "        right = np.log(self.class_priors)\n",
    "        return left + right + mid\n",
    "    \n",
    "    def predict(self, X):\n",
    "        q = np.array(self.class_conditional_prior_product(X))\n",
    "        return np.argmax(q, axis=1)\n",
    "    \n",
    "    def predict_proba(self, X):\n",
    "        q = np.array(self.class_conditional_prior_product(X))\n",
    "        print(q)\n",
    "        prob = np.exp(q)\n",
    "        return prob / np.expand_dims(np.sum(prob, axis=1), axis=1)\n",
    "        pass\n",
    "        \n",
    "        \n",
    "        "
   ]
  },
  {
   "cell_type": "code",
   "execution_count": 30,
   "metadata": {},
   "outputs": [
    {
     "name": "stdout",
     "output_type": "stream",
     "text": [
      "[[0.25 0.75]\n",
      " [0.75 0.25]]\n",
      "[0.5 0.5]\n",
      "[[-3.4657359  -1.26851133]\n",
      " [-1.26851133 -3.4657359 ]\n",
      " [-1.26851133 -3.4657359 ]\n",
      " [-3.4657359  -1.26851133]]\n"
     ]
    },
    {
     "data": {
      "text/plain": [
       "array([[0.1, 0.9],\n",
       "       [0.9, 0.1],\n",
       "       [0.9, 0.1],\n",
       "       [0.1, 0.9]])"
      ]
     },
     "execution_count": 30,
     "metadata": {},
     "output_type": "execute_result"
    }
   ],
   "source": [
    "clf = BernoulliNB()\n",
    "clf.fit(X, y)\n",
    "clf.predict(X)\n",
    "clf.predict_proba(X)\n"
   ]
  },
  {
   "cell_type": "code",
   "execution_count": 37,
   "metadata": {},
   "outputs": [
    {
     "data": {
      "text/plain": [
       "0.03125000008749146"
      ]
     },
     "execution_count": 37,
     "metadata": {},
     "output_type": "execute_result"
    }
   ],
   "source": [
    "x1 = np.exp(-3.4657359)\n",
    "x1"
   ]
  },
  {
   "cell_type": "code",
   "execution_count": 38,
   "metadata": {},
   "outputs": [
    {
     "data": {
      "text/plain": [
       "0.2812499987241114"
      ]
     },
     "execution_count": 38,
     "metadata": {},
     "output_type": "execute_result"
    }
   ],
   "source": [
    "x2 = np.exp(-1.26851133)\n",
    "x2"
   ]
  },
  {
   "cell_type": "code",
   "execution_count": 39,
   "metadata": {},
   "outputs": [
    {
     "data": {
      "text/plain": [
       "0.31249999881160284"
      ]
     },
     "execution_count": 39,
     "metadata": {},
     "output_type": "execute_result"
    }
   ],
   "source": [
    "z = np.exp(-3.4657359) + np.exp(-1.26851133)\n",
    "z"
   ]
  },
  {
   "cell_type": "code",
   "execution_count": 41,
   "metadata": {},
   "outputs": [
    {
     "data": {
      "text/plain": [
       "0.8999999993397403"
      ]
     },
     "execution_count": 41,
     "metadata": {},
     "output_type": "execute_result"
    }
   ],
   "source": [
    "x2/z"
   ]
  },
  {
   "cell_type": "code",
   "execution_count": null,
   "metadata": {},
   "outputs": [],
   "source": []
  }
 ],
 "metadata": {
  "kernelspec": {
   "display_name": "LLM",
   "language": "python",
   "name": "python3"
  },
  "language_info": {
   "codemirror_mode": {
    "name": "ipython",
    "version": 3
   },
   "file_extension": ".py",
   "mimetype": "text/x-python",
   "name": "python",
   "nbconvert_exporter": "python",
   "pygments_lexer": "ipython3",
   "version": "3.11.5"
  }
 },
 "nbformat": 4,
 "nbformat_minor": 2
}
