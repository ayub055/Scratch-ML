{
 "cells": [
  {
   "cell_type": "code",
   "execution_count": 2,
   "metadata": {},
   "outputs": [],
   "source": [
    "import pandas as pd\n",
    "import numpy as np"
   ]
  },
  {
   "cell_type": "code",
   "execution_count": 13,
   "metadata": {},
   "outputs": [
    {
     "name": "stdout",
     "output_type": "stream",
     "text": [
      "Index(['Outlook', 'Temp', 'Humidity', 'Windy', 'Play'], dtype='object')\n",
      "(14, 4)\n",
      "(14,)\n"
     ]
    }
   ],
   "source": [
    "data = pd.read_table('weather.txt')\n",
    "print(data.columns)\n",
    "X,y  = data.drop([data.columns[-1]], axis = 1), data[data.columns[-1]]\n",
    "print(X.shape)\n",
    "print(y.shape)\n",
    "# print(X)\n",
    "# print(y)"
   ]
  },
  {
   "cell_type": "code",
   "execution_count": 14,
   "metadata": {},
   "outputs": [
    {
     "name": "stdout",
     "output_type": "stream",
     "text": [
      "Total Classes :  2\n",
      "Total Features :  4\n",
      "Total Samples :  14\n",
      "Classes :  ['no' 'yes']\n"
     ]
    }
   ],
   "source": [
    "classes = np.unique(y)\n",
    "num_classes = len(np.unique(y))\n",
    "num_features = X.shape[1]\n",
    "num_samples = X.shape[0]\n",
    "print('Total Classes : ',num_classes)\n",
    "print('Total Features : ',num_features)\n",
    "print('Total Samples : ',num_samples)\n",
    "print('Classes : ', classes)\n",
    "\n",
    "X_train, y_train = X, y"
   ]
  },
  {
   "cell_type": "code",
   "execution_count": 30,
   "metadata": {},
   "outputs": [],
   "source": [
    "class_conditional = np.zeros((num_classes, num_features))\n",
    "priors = np.zeros((num_classes))"
   ]
  },
  {
   "cell_type": "code",
   "execution_count": 34,
   "metadata": {},
   "outputs": [
    {
     "data": {
      "text/plain": [
       "array([[0., 0., 0.],\n",
       "       [0., 0., 0.]])"
      ]
     },
     "execution_count": 34,
     "metadata": {},
     "output_type": "execute_result"
    }
   ],
   "source": [
    "likelihood"
   ]
  },
  {
   "cell_type": "code",
   "execution_count": 37,
   "metadata": {},
   "outputs": [
    {
     "name": "stdout",
     "output_type": "stream",
     "text": [
      "   height(feet)  weight(lbs)  footsize(inches)\n",
      "4          5.00          100                 6\n",
      "5          5.50          150                 8\n",
      "6          5.42          130                 7\n",
      "7          5.75          150                 9\n",
      "height(feet)         21.67\n",
      "weight(lbs)         530.00\n",
      "footsize(inches)     30.00\n",
      "dtype: float64\n",
      "4\n",
      "--------------------------------------------------\n"
     ]
    },
    {
     "ename": "NameError",
     "evalue": "name 'l' is not defined",
     "output_type": "error",
     "traceback": [
      "\u001b[0;31m---------------------------------------------------------------------------\u001b[0m",
      "\u001b[0;31mNameError\u001b[0m                                 Traceback (most recent call last)",
      "Cell \u001b[0;32mIn[37], line 8\u001b[0m\n\u001b[1;32m      5\u001b[0m \u001b[38;5;28mprint\u001b[39m(X_c\u001b[38;5;241m.\u001b[39mshape[\u001b[38;5;241m0\u001b[39m])\n\u001b[1;32m      6\u001b[0m \u001b[38;5;28mprint\u001b[39m(\u001b[38;5;124m\"\u001b[39m\u001b[38;5;124m-\u001b[39m\u001b[38;5;124m\"\u001b[39m\u001b[38;5;241m*\u001b[39m\u001b[38;5;241m50\u001b[39m)\n\u001b[0;32m----> 8\u001b[0m l\n",
      "\u001b[0;31mNameError\u001b[0m: name 'l' is not defined"
     ]
    }
   ],
   "source": [
    "for c in classes:\n",
    "    X_c = X[y==c]\n",
    "    print(X_c)\n",
    "    print(np.sum(X_c, axis=0))\n",
    "    print(X_c.shape[0])\n",
    "    print(\"-\"*50)\n",
    "    \n",
    "    l\n",
    "    \n"
   ]
  },
  {
   "cell_type": "code",
   "execution_count": null,
   "metadata": {},
   "outputs": [],
   "source": []
  }
 ],
 "metadata": {
  "kernelspec": {
   "display_name": "Project",
   "language": "python",
   "name": "python3"
  },
  "language_info": {
   "codemirror_mode": {
    "name": "ipython",
    "version": 3
   },
   "file_extension": ".py",
   "mimetype": "text/x-python",
   "name": "python",
   "nbconvert_exporter": "python",
   "pygments_lexer": "ipython3",
   "version": "3.11.5"
  }
 },
 "nbformat": 4,
 "nbformat_minor": 2
}
