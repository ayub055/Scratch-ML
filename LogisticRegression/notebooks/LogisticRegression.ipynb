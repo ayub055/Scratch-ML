{
 "cells": [
  {
   "cell_type": "code",
   "execution_count": 2,
   "metadata": {},
   "outputs": [],
   "source": [
    "import numpy as np\n",
    "import matplotlib.pyplot as plt"
   ]
  },
  {
   "cell_type": "markdown",
   "metadata": {},
   "source": [
    "## Logit/sigmoid function\n",
    "\n",
    "Logistic regression is a baseline supervised algorithm for solving classification problem where outcome (target) is discrete.   The idea behind is that $\\boldsymbol{\\theta}^T\\mathbf{x}$ will return a continous value and thus may not be suitable for classification task.  However, if we can find one function $g$ such that\n",
    "\n",
    "$$g(\\boldsymbol{\\theta}^T\\mathbf{x}) \\in \\{0, 1\\}$$\n",
    "\n",
    "then we can define our hypothesis function as $g$ and optimize accordingly based on some loss function.\n",
    "\n",
    "It happens that $g$ (and also our hypothesis function h) can be defined as the sigmoid (logit) function as the following:\n",
    "\n",
    "$$ h = g(\\boldsymbol{\\theta}^T\\mathbf{x}) = \\frac{1}{1+e^{-\\boldsymbol{\\theta}^T\\mathbf{x}}} $$\n",
    "\n",
    "**Note:  e is also known as the Euler's number**\n",
    "\n",
    "**Note: don't worry if you don't know what is a sigmoid function.  It is just some function that magically maps any value to value between 0 to 1.**\n",
    "\n",
    "**Trivials**: \n",
    "$e$ is a really convenient number for math, for example whenever you take the derivative of $e^x$, you get $e^x$ back again.  It's the only function on Earth that will do that.  Also, $e^x$ always give you positive numbers, thus it is no surprise this $e$ was often used in probability/statistics.  Last, it is convenient to apply $\\log$ in any optimization problem including $e$ since it will cancel it nicely and will also not change the optimization answer since $\\log$ is monotically increasing.  Btw, the common log base we use in natural log, but it really does not matter because the base is merely a constant.\n",
    "\n",
    "Let's see how does it look in code:"
   ]
  },
  {
   "cell_type": "code",
   "execution_count": 3,
   "metadata": {},
   "outputs": [],
   "source": [
    "def sigmoid(x, derivative=False):\n",
    "    prob = 1 / ( 1 + np.exp(-x))\n",
    "    \n",
    "    if derivative:\n",
    "        d_sigmoid = prob * (1 - prob)\n",
    "        return d_sigmoid\n",
    "    return prob\n",
    "        "
   ]
  },
  {
   "cell_type": "markdown",
   "metadata": {},
   "source": [
    "Hmm...but the range of output is a continuous value between 0 and 1.  Well, we can simply round up/down to get either 0 or 1.\n",
    "\n",
    "## Derivative\n",
    "\n",
    "Recall the derivative using quotient rule is        \n",
    "\n",
    "$$ (\\frac{f}{g})' = \\frac{f'g - fg'}{g^2}$$\n",
    "\n",
    "Given sigmoid function as\n",
    "\n",
    "$$ g(x) = \\frac{1}{1+e^{-x}} $$\n",
    "\n",
    "Thus the derivative of sigmoid function is\n",
    "\n",
    "$$\n",
    "\\begin{aligned}\n",
    "    \\frac{dg}{dx} &= \\frac{0(1 + e^{-x}) - (-1)(e^{-x}))}{(1 + e^{-x})^2} \\\\\n",
    "    &= \\frac{e^{-x}}{(1 + e^{-x})^2}  = \\frac{e^{-x} + 1 - 1}{(1 + e^{-x})^2} \\\\\n",
    "    &= \\frac{1}{(1 + e^{-x})} - \\frac{1}{(1 + e^{-x})^2} \\\\\n",
    "    &= \\frac{1}{(1 + e^{-x})} \\big(1 - \\frac{1}{(1 + e^{-x})}\\big)\\\\\n",
    "    &= g(1 - g)\n",
    "\\end{aligned}\n",
    "$$\n",
    "\n",
    "**Note: once again, don't worry if you don't understand derivative very well.  The key here is just to be reminded that derivative is important for us to do gradient descent, ok?**\n",
    "\n",
    "Let's look at the gradient by modifying our sigmoid function a little bit."
   ]
  },
  {
   "cell_type": "code",
   "execution_count": 4,
   "metadata": {},
   "outputs": [
    {
     "name": "stdout",
     "output_type": "stream",
     "text": [
      "Max value of Derivative of sigmoid is : 0.25 at x = 0\n"
     ]
    },
    {
     "data": {
      "image/png": "[encoded data removed]",
      "text/plain": [
       "<Figure size 1000x200 with 2 Axes>"
      ]
     },
     "metadata": {},
     "output_type": "display_data"
    }
   ],
   "source": [
    "# Generate data points\n",
    "x = np.arange(-5,5,0.1)\n",
    "y = sigmoid(x)\n",
    "y_deriv = sigmoid(x, derivative=True)\n",
    "\n",
    "# Plot the sigmoid\n",
    "_, ax = plt.subplots(1, 2, figsize=(10, 2))\n",
    "ax1 = ax[0]\n",
    "ax1.plot(x, y)\n",
    "ax1.set_title('Sigmoid')\n",
    "ax1.set_xlabel('x')\n",
    "ax1.set_ylabel('y')\n",
    "\n",
    "# Plot the derivative of the sigmoid\n",
    "ax2 = ax[1]\n",
    "ax2.plot(x, y_deriv)\n",
    "ax2.set_title('Derivative of the sigmoid')\n",
    "ax2.set_xlabel('x')\n",
    "ax2.set_ylabel('y')\n",
    "\n",
    "print(f\"Max value of Derivative of sigmoid is : 0.25 at x = 0\")"
   ]
  },
  {
   "cell_type": "code",
   "execution_count": 7,
   "metadata": {},
   "outputs": [],
   "source": [
    "def z_calculate(X, W):\n",
    "    print(X.shape, W.shape)\n",
    "    return X @ W\n",
    "\n",
    "def predict(X, W, threshold):\n",
    "    logit = z_calculate(X, W)\n",
    "    prob = sigmoid(logit)\n",
    "    return np.where(logit > threshold, 1, 0)"
   ]
  },
  {
   "cell_type": "code",
   "execution_count": 6,
   "metadata": {},
   "outputs": [],
   "source": [
    "import numpy as np\n",
    "\n",
    "class LogisticRegression:\n",
    "    def __init__(self, learning_rate=0.01, max_iter=1000, batch_size=32):\n",
    "\n",
    "        self.learning_rate = learning_rate\n",
    "        self.max_iter = max_iter\n",
    "        self.batch_size = batch_size\n",
    "        self.weights = None\n",
    "        self.losses = []\n",
    "\n",
    "    def _sigmoid(self, z):\n",
    "        return 1 / (1 + np.exp(-z))\n",
    "    \n",
    "    def _h_theta(self, X):\n",
    "        #Computes the hypothesis function (logistic regression output).\n",
    "\n",
    "        return self._sigmoid(np.dot(X, self.weights))\n",
    "    \n",
    "    def _compute_loss_and_gradient(self, X, y):\n",
    "        m = X.shape[0]\n",
    "        h = self._h_theta(X)\n",
    "        loss = - np.mean(y * np.log(h) + (1 - y) * np.log(1 - h))\n",
    "        grad = np.dot(X.T, (h - y)) / m\n",
    "        return loss, grad\n",
    "    \n",
    "    def fit(self, X, y):\n",
    "        # Trains the logistic regression model using mini-batch gradient descent.\n",
    "        \n",
    "        m, n = X.shape\n",
    "        self.weights = np.zeros(n)\n",
    "\n",
    "        for i in range(self.max_iter):\n",
    "            # Randomly shuffle the data\n",
    "            indices = np.random.permutation(m)\n",
    "            X_shuffled = X[indices]\n",
    "            y_shuffled = y[indices]\n",
    "\n",
    "            # Create mini-batches\n",
    "            for start in range(0, m, self.batch_size):\n",
    "                end = start + self.batch_size\n",
    "                batch_X = X_shuffled[start:end]\n",
    "                batch_y = y_shuffled[start:end]\n",
    "                loss, grad = self._compute_loss_and_gradient(batch_X, batch_y)\n",
    "                self.weights -= self.learning_rate * grad\n",
    "\n",
    "            if i % 100 == 0:\n",
    "                self.losses.append(loss)\n",
    "                print(f\"Loss at iteration {i}: {loss:.4f}\")\n",
    "\n",
    "        return self\n",
    "    \n",
    "    def predict_proba(self, X):\n",
    "        # Predicts the probability estimates for each sample.\n",
    "        \n",
    "        return self._h_theta(X)\n",
    "    \n",
    "    def predict(self, X):\n",
    "        #Predicts binary labels for each sample.\n",
    "        return np.round(self.predict_proba(X))\n",
    "\n",
    "Example usage:\n",
    "model = LogisticRegression(learning_rate=0.01, max_iter=5000, batch_size=32)\n",
    "model.fit(X_train, y_train)\n",
    "predictions = model.predict(X_test)\n"
   ]
  },
  {
   "cell_type": "code",
   "execution_count": null,
   "metadata": {},
   "outputs": [],
   "source": []
  }
 ],
 "metadata": {
  "kernelspec": {
   "display_name": "Project",
   "language": "python",
   "name": "python3"
  },
  "language_info": {
   "codemirror_mode": {
    "name": "ipython",
    "version": 3
   },
   "file_extension": ".py",
   "mimetype": "text/x-python",
   "name": "python",
   "nbconvert_exporter": "python",
   "pygments_lexer": "ipython3",
   "version": "3.10.14"
  }
 },
 "nbformat": 4,
 "nbformat_minor": 2
}
