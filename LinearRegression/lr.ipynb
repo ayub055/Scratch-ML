{
 "cells": [
  {
   "cell_type": "markdown",
   "metadata": {},
   "source": [
    "# Linear Regression"
   ]
  },
  {
   "cell_type": "markdown",
   "metadata": {},
   "source": [
    "## Import and Read data"
   ]
  },
  {
   "cell_type": "markdown",
   "metadata": {},
   "source": [
    "#### Necessary Imports"
   ]
  },
  {
   "cell_type": "code",
   "execution_count": null,
   "metadata": {},
   "outputs": [],
   "source": [
    "import numpy as np\n",
    "import pandas as pd\n",
    "from helper import plot_mse\n",
    "import matplotlib.pyplot as plt"
   ]
  },
  {
   "cell_type": "markdown",
   "metadata": {},
   "source": [
    "#### Reading Data and General Statistics"
   ]
  },
  {
   "cell_type": "code",
   "execution_count": null,
   "metadata": {},
   "outputs": [],
   "source": [
    "data = pd.read_csv('house_price.csv')\n",
    "# data.head()\n",
    "X = data['GrLivArea']\n",
    "y = data['SalePrice']\n",
    "\n",
    "num_element = X.shape[0]\n",
    "print(\"Shape of X\", X.shape)\n",
    "print(\"Shape of y\", y.shape)\n",
    "print(\"Number of element\", num_element)"
   ]
  },
  {
   "cell_type": "code",
   "execution_count": null,
   "metadata": {},
   "outputs": [],
   "source": [
    "num_samples = X.shape[0]\n",
    "bias = np.zeros(num_samples)\n",
    "\n",
    "X = (X - X.mean()) / X.std()\n",
    "X = np.column_stack((bias, X))\n",
    "_, num_features = X.shape\n",
    "\n",
    "print(\"Number of Samples\", num_samples)\n",
    "print(\"Number of Features\", num_features)\n",
    "print(\"Design Matrix Shape\", X.shape)\n",
    "assert X.shape[1] == 2, \"restart the notebook\""
   ]
  },
  {
   "cell_type": "markdown",
   "metadata": {},
   "source": [
    "## Helper Functions"
   ]
  },
  {
   "cell_type": "markdown",
   "metadata": {},
   "source": [
    "#### Predict"
   ]
  },
  {
   "cell_type": "code",
   "execution_count": null,
   "metadata": {},
   "outputs": [],
   "source": [
    "W = np.zeros(num_features)\n",
    "print(\"Shape of design matrix\", X.shape)\n",
    "print(\"Shape of Weight\", W.shape)\n",
    "assert X.shape[-1] == W.shape[0], 'Matrix incompatible'"
   ]
  },
  {
   "cell_type": "code",
   "execution_count": null,
   "metadata": {},
   "outputs": [],
   "source": [
    "y_pred = X @ W\n",
    "print(\"Shape of Predictions\", y_pred.shape)"
   ]
  },
  {
   "cell_type": "code",
   "execution_count": null,
   "metadata": {},
   "outputs": [],
   "source": [
    "def predict(X, W):\n",
    "    assert X.shape[-1] == W.shape[0], 'Matrix incompatible'\n",
    "    return X @ W\n",
    "\n",
    "y_pred = predict(X, W)\n",
    "print(y_pred.shape)"
   ]
  },
  {
   "cell_type": "markdown",
   "metadata": {},
   "source": [
    "#### Loss Function Intution\n"
   ]
  },
  {
   "cell_type": "code",
   "execution_count": null,
   "metadata": {},
   "outputs": [],
   "source": [
    "# Discuss about the loss function scenario\n",
    "plot_mse(num=50)"
   ]
  },
  {
   "cell_type": "markdown",
   "metadata": {},
   "source": [
    "#### Mean Squared Error (MSE) Cost Function\n",
    "\n",
    "The MSE is defined as:\n",
    "\n",
    "$$MSE = J(W) =  \\frac{1}{2m} \\sum_{i=1}^{m} (h_w(x^{(i)}) - y^{(i)})^2$$\n",
    "\n",
    "where\n",
    "\n",
    "$$h_w(x) = w^Tx$$\n",
    "\n",
    "The MSE measures how much the average model predictions vary from the correct values. The number is higher when the model is performing \"bad\" on the training set.\n"
   ]
  },
  {
   "cell_type": "code",
   "execution_count": null,
   "metadata": {},
   "outputs": [],
   "source": [
    "def mse(y_true, y_pred):\n",
    "    square_error = (y_pred - y_true) ** 2\n",
    "    return np.mean(square_error)"
   ]
  },
  {
   "cell_type": "markdown",
   "metadata": {},
   "source": [
    "\n",
    "#### Gradient \n",
    "The gradient of MSE/J(W) is given by:\n",
    "\n",
    "\n",
    "$$MSE' = J'(W) = \\frac{1}{m} \\sum_{i=1}^{m} (h_w(x^{(i)}) - y^{(i)}) * x^{(i)}$$"
   ]
  },
  {
   "cell_type": "code",
   "execution_count": null,
   "metadata": {},
   "outputs": [],
   "source": [
    "(y_pred-y).shape\n",
    "((y_pred-y).T @ X).shape"
   ]
  },
  {
   "cell_type": "code",
   "execution_count": null,
   "metadata": {},
   "outputs": [],
   "source": [
    "def gradient_step(X, W, y, lr):\n",
    "    y_pred = predict(X, W)\n",
    "    grad_w = (y-y_pred).T @ X\n",
    "    W -= lr * grad_w   \n",
    "    return W"
   ]
  },
  {
   "cell_type": "markdown",
   "metadata": {},
   "source": [
    "## TRAINING"
   ]
  },
  {
   "cell_type": "code",
   "execution_count": 1,
   "metadata": {},
   "outputs": [
    {
     "name": "stdout",
     "output_type": "stream",
     "text": [
      "Shape of X (1460, 3)\n",
      "Shape of y (1460,)\n",
      "Number of Samples 1168\n",
      "Number of Features 3\n",
      "Shape of design matrix (1168, 3)\n",
      "Shape of Weight1 (3,)\n",
      "Shape of Weight2 (3,)\n"
     ]
    }
   ],
   "source": [
    "import numpy as np\n",
    "import pandas as pd\n",
    "from helper import plot_mse\n",
    "import matplotlib.pyplot as plt\n",
    "from dataloader import load_advanced_house_data, load_simple_house_data, split_data\n",
    "\n",
    "X, y = load_advanced_house_data(isStd=True)\n",
    "print(\"Shape of X\", X.shape)\n",
    "print(\"Shape of y\", y.shape)\n",
    "\n",
    "X_train, y_train, X_test, y_test = split_data(X, y, 0.8)\n",
    "\n",
    "num_samples = X_train.shape[0]\n",
    "bias = np.zeros(num_samples)\n",
    "_, num_features = X_train.shape\n",
    "\n",
    "print(\"Number of Samples\", num_samples)\n",
    "print(\"Number of Features\", num_features)\n",
    "# assert X.shape[1] == 2, \"restart the notebook\"\n",
    "\n",
    "W1 = np.zeros(num_features)\n",
    "W2 = np.zeros(num_features)\n",
    "\n",
    "print(\"Shape of design matrix\", X_train.shape)\n",
    "print(\"Shape of Weight1\", W1.shape)\n",
    "print(\"Shape of Weight2\", W2.shape)\n",
    "\n",
    "assert X_train.shape[-1] == W1.shape[0], 'Matrix incompatible'"
   ]
  },
  {
   "cell_type": "code",
   "execution_count": 2,
   "metadata": {},
   "outputs": [],
   "source": [
    "def mse(y_true, y_pred):\n",
    "    N = len(y_true)\n",
    "    square_error = ((y_pred - y_true).T @ (y_pred - y_true)) * (1.0/(2*N))\n",
    "    return square_error\n",
    "\n",
    "def predict(X, W):\n",
    "    assert X.shape[-1] == W.shape[0], 'Matrix incompatible'\n",
    "    return X @ W\n",
    "\n",
    "def gradient_step(X, W, y, lr, regularize=False):\n",
    "    y_pred = predict(X, W)\n",
    "    grad_w = ((y_pred-y).T @ X)/len(X)\n",
    "    if regularize:\n",
    "        l2 = 0.1\n",
    "    else: l2 = 0\n",
    "    \n",
    "    W -= lr * (grad_w + l2 * 2 * np.sum(W))\n",
    "    return W\n",
    "\n",
    "def regularized_mse(y_true, y_pred, W, l2=0.01):\n",
    "    N = len(y_true)\n",
    "    square_error = ((y_pred - y_true).T @ (y_pred - y_true)) * (1.0/(2*N))\n",
    "    l2_error = l2 * W.T @ W\n",
    "    return square_error + l2_error\n",
    "\n",
    "    \n"
   ]
  },
  {
   "cell_type": "code",
   "execution_count": 3,
   "metadata": {},
   "outputs": [],
   "source": [
    "num_iter = 2000\n",
    "learning_rate = 0.01\n",
    "loss_history_un_regularise = []\n",
    "loss_history_regularized = []\n",
    "\n",
    "# fit function\n",
    "for iter in range(num_iter):\n",
    "    y_pred = X_train @ W1\n",
    "    loss = mse(y_train, y_pred)\n",
    "    loss_history_un_regularise.append(loss)\n",
    "    W1 = gradient_step(X_train, W1, y_train, learning_rate, regularize=False)\n",
    "    \n",
    "\n",
    "# fit function\n",
    "for iter in range(num_iter):\n",
    "    y_pred = X_train @ W2\n",
    "    loss = regularized_mse(y_train, y_pred, W2)\n",
    "    loss2 = mse(y_train, y_pred)\n",
    "    loss_history_regularized.append(loss2)\n",
    "    W2 = gradient_step(X_train, W2, y_train, learning_rate, regularize=True)\n"
   ]
  },
  {
   "cell_type": "code",
   "execution_count": 4,
   "metadata": {},
   "outputs": [
    {
     "data": {
      "image/png": "[encoded data removed]",
      "text/plain": [
       "<Figure size 1400x800 with 1 Axes>"
      ]
     },
     "metadata": {},
     "output_type": "display_data"
    }
   ],
   "source": [
    "plt.title('Cost Function J')\n",
    "plt.xlabel('No. of iterations')\n",
    "plt.ylabel('Cost')\n",
    "plt.plot(loss_history_un_regularise, label=\"unregularised\")\n",
    "plt.plot(loss_history_regularized, label=\"regularised\")\n",
    "plt.legend()\n",
    "plt.show()"
   ]
  },
  {
   "cell_type": "code",
   "execution_count": 5,
   "metadata": {},
   "outputs": [
    {
     "data": {
      "text/plain": [
       "array([0.00554321, 0.55165436, 0.40789856])"
      ]
     },
     "execution_count": 5,
     "metadata": {},
     "output_type": "execute_result"
    }
   ],
   "source": [
    "W1"
   ]
  },
  {
   "cell_type": "code",
   "execution_count": 6,
   "metadata": {},
   "outputs": [
    {
     "data": {
      "text/plain": [
       "array([-0.12844044,  0.47686856,  0.30940711])"
      ]
     },
     "execution_count": 6,
     "metadata": {},
     "output_type": "execute_result"
    }
   ],
   "source": [
    "W2"
   ]
  },
  {
   "cell_type": "code",
   "execution_count": 7,
   "metadata": {},
   "outputs": [
    {
     "name": "stdout",
     "output_type": "stream",
     "text": [
      "0.3885444060360256\n"
     ]
    }
   ],
   "source": [
    "def mae(y_pred, y_true):\n",
    "    return np.mean(abs(y_pred - y_true))\n",
    "\n",
    "y_pred = X_test @ W1\n",
    "print(mae(y_pred=y_pred, y_true=y_test))"
   ]
  },
  {
   "cell_type": "code",
   "execution_count": 8,
   "metadata": {},
   "outputs": [
    {
     "name": "stdout",
     "output_type": "stream",
     "text": [
      "0.386216092666989\n"
     ]
    }
   ],
   "source": [
    "y_pred = X_test @ W2\n",
    "print(mae(y_pred=y_pred, y_true=y_test))"
   ]
  },
  {
   "cell_type": "code",
   "execution_count": null,
   "metadata": {},
   "outputs": [],
   "source": []
  }
 ],
 "metadata": {
  "kernelspec": {
   "display_name": "Project",
   "language": "python",
   "name": "python3"
  },
  "language_info": {
   "codemirror_mode": {
    "name": "ipython",
    "version": 3
   },
   "file_extension": ".py",
   "mimetype": "text/x-python",
   "name": "python",
   "nbconvert_exporter": "python",
   "pygments_lexer": "ipython3",
   "version": "3.11.5"
  }
 },
 "nbformat": 4,
 "nbformat_minor": 2
}
